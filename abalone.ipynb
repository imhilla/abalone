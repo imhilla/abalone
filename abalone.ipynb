{
 "cells": [
  {
   "cell_type": "code",
   "execution_count": 1,
   "metadata": {},
   "outputs": [
    {
     "name": "stdout",
     "output_type": "stream",
     "text": [
      "Requirement already satisfied: sagemaker in /Users/kiptoo/anaconda3/envs/mlmicroservice/lib/python3.11/site-packages (2.219.0)\n",
      "Requirement already satisfied: attrs<24,>=23.1.0 in /Users/kiptoo/anaconda3/envs/mlmicroservice/lib/python3.11/site-packages (from sagemaker) (23.2.0)\n",
      "Requirement already satisfied: boto3<2.0,>=1.33.3 in /Users/kiptoo/anaconda3/envs/mlmicroservice/lib/python3.11/site-packages (from sagemaker) (1.34.98)\n",
      "Requirement already satisfied: cloudpickle==2.2.1 in /Users/kiptoo/anaconda3/envs/mlmicroservice/lib/python3.11/site-packages (from sagemaker) (2.2.1)\n",
      "Requirement already satisfied: google-pasta in /Users/kiptoo/anaconda3/envs/mlmicroservice/lib/python3.11/site-packages (from sagemaker) (0.2.0)\n",
      "Requirement already satisfied: numpy<2.0,>=1.9.0 in /Users/kiptoo/anaconda3/envs/mlmicroservice/lib/python3.11/site-packages (from sagemaker) (1.26.2)\n",
      "Requirement already satisfied: protobuf<5.0,>=3.12 in /Users/kiptoo/anaconda3/envs/mlmicroservice/lib/python3.11/site-packages (from sagemaker) (4.25.0)\n",
      "Requirement already satisfied: smdebug-rulesconfig==1.0.1 in /Users/kiptoo/anaconda3/envs/mlmicroservice/lib/python3.11/site-packages (from sagemaker) (1.0.1)\n",
      "Requirement already satisfied: importlib-metadata<7.0,>=1.4.0 in /Users/kiptoo/anaconda3/envs/mlmicroservice/lib/python3.11/site-packages (from sagemaker) (6.8.0)\n",
      "Requirement already satisfied: packaging>=20.0 in /Users/kiptoo/anaconda3/envs/mlmicroservice/lib/python3.11/site-packages (from sagemaker) (23.2)\n",
      "Requirement already satisfied: pandas in /Users/kiptoo/anaconda3/envs/mlmicroservice/lib/python3.11/site-packages (from sagemaker) (2.1.4)\n",
      "Requirement already satisfied: pathos in /Users/kiptoo/anaconda3/envs/mlmicroservice/lib/python3.11/site-packages (from sagemaker) (0.3.2)\n",
      "Requirement already satisfied: schema in /Users/kiptoo/anaconda3/envs/mlmicroservice/lib/python3.11/site-packages (from sagemaker) (0.7.5)\n",
      "Requirement already satisfied: PyYAML~=6.0 in /Users/kiptoo/anaconda3/envs/mlmicroservice/lib/python3.11/site-packages (from sagemaker) (6.0.1)\n",
      "Requirement already satisfied: jsonschema in /Users/kiptoo/anaconda3/envs/mlmicroservice/lib/python3.11/site-packages (from sagemaker) (4.22.0)\n",
      "Requirement already satisfied: platformdirs in /Users/kiptoo/anaconda3/envs/mlmicroservice/lib/python3.11/site-packages (from sagemaker) (4.0.0)\n",
      "Requirement already satisfied: tblib<4,>=1.7.0 in /Users/kiptoo/anaconda3/envs/mlmicroservice/lib/python3.11/site-packages (from sagemaker) (3.0.0)\n",
      "Requirement already satisfied: urllib3<3.0.0,>=1.26.8 in /Users/kiptoo/anaconda3/envs/mlmicroservice/lib/python3.11/site-packages (from sagemaker) (2.0.7)\n",
      "Requirement already satisfied: requests in /Users/kiptoo/anaconda3/envs/mlmicroservice/lib/python3.11/site-packages (from sagemaker) (2.31.0)\n",
      "Requirement already satisfied: docker in /Users/kiptoo/anaconda3/envs/mlmicroservice/lib/python3.11/site-packages (from sagemaker) (7.0.0)\n",
      "Requirement already satisfied: tqdm in /Users/kiptoo/anaconda3/envs/mlmicroservice/lib/python3.11/site-packages (from sagemaker) (4.66.1)\n",
      "Requirement already satisfied: psutil in /Users/kiptoo/anaconda3/envs/mlmicroservice/lib/python3.11/site-packages (from sagemaker) (5.9.0)\n",
      "Requirement already satisfied: botocore<1.35.0,>=1.34.98 in /Users/kiptoo/anaconda3/envs/mlmicroservice/lib/python3.11/site-packages (from boto3<2.0,>=1.33.3->sagemaker) (1.34.98)\n",
      "Requirement already satisfied: jmespath<2.0.0,>=0.7.1 in /Users/kiptoo/anaconda3/envs/mlmicroservice/lib/python3.11/site-packages (from boto3<2.0,>=1.33.3->sagemaker) (1.0.1)\n",
      "Requirement already satisfied: s3transfer<0.11.0,>=0.10.0 in /Users/kiptoo/anaconda3/envs/mlmicroservice/lib/python3.11/site-packages (from boto3<2.0,>=1.33.3->sagemaker) (0.10.1)\n",
      "Requirement already satisfied: zipp>=0.5 in /Users/kiptoo/anaconda3/envs/mlmicroservice/lib/python3.11/site-packages (from importlib-metadata<7.0,>=1.4.0->sagemaker) (3.17.0)\n",
      "Requirement already satisfied: charset-normalizer<4,>=2 in /Users/kiptoo/anaconda3/envs/mlmicroservice/lib/python3.11/site-packages (from requests->sagemaker) (3.3.2)\n",
      "Requirement already satisfied: idna<4,>=2.5 in /Users/kiptoo/anaconda3/envs/mlmicroservice/lib/python3.11/site-packages (from requests->sagemaker) (3.4)\n",
      "Requirement already satisfied: certifi>=2017.4.17 in /Users/kiptoo/anaconda3/envs/mlmicroservice/lib/python3.11/site-packages (from requests->sagemaker) (2023.7.22)\n",
      "Requirement already satisfied: six in /Users/kiptoo/anaconda3/envs/mlmicroservice/lib/python3.11/site-packages (from google-pasta->sagemaker) (1.16.0)\n",
      "Requirement already satisfied: jsonschema-specifications>=2023.03.6 in /Users/kiptoo/anaconda3/envs/mlmicroservice/lib/python3.11/site-packages (from jsonschema->sagemaker) (2023.12.1)\n",
      "Requirement already satisfied: referencing>=0.28.4 in /Users/kiptoo/anaconda3/envs/mlmicroservice/lib/python3.11/site-packages (from jsonschema->sagemaker) (0.35.1)\n",
      "Requirement already satisfied: rpds-py>=0.7.1 in /Users/kiptoo/anaconda3/envs/mlmicroservice/lib/python3.11/site-packages (from jsonschema->sagemaker) (0.18.0)\n",
      "Requirement already satisfied: python-dateutil>=2.8.2 in /Users/kiptoo/anaconda3/envs/mlmicroservice/lib/python3.11/site-packages (from pandas->sagemaker) (2.8.2)\n",
      "Requirement already satisfied: pytz>=2020.1 in /Users/kiptoo/anaconda3/envs/mlmicroservice/lib/python3.11/site-packages (from pandas->sagemaker) (2023.3.post1)\n",
      "Requirement already satisfied: tzdata>=2022.1 in /Users/kiptoo/anaconda3/envs/mlmicroservice/lib/python3.11/site-packages (from pandas->sagemaker) (2023.3)\n",
      "Requirement already satisfied: ppft>=1.7.6.8 in /Users/kiptoo/anaconda3/envs/mlmicroservice/lib/python3.11/site-packages (from pathos->sagemaker) (1.7.6.8)\n",
      "Requirement already satisfied: dill>=0.3.8 in /Users/kiptoo/anaconda3/envs/mlmicroservice/lib/python3.11/site-packages (from pathos->sagemaker) (0.3.8)\n",
      "Requirement already satisfied: pox>=0.3.4 in /Users/kiptoo/anaconda3/envs/mlmicroservice/lib/python3.11/site-packages (from pathos->sagemaker) (0.3.4)\n",
      "Requirement already satisfied: multiprocess>=0.70.16 in /Users/kiptoo/anaconda3/envs/mlmicroservice/lib/python3.11/site-packages (from pathos->sagemaker) (0.70.16)\n",
      "Requirement already satisfied: contextlib2>=0.5.5 in /Users/kiptoo/anaconda3/envs/mlmicroservice/lib/python3.11/site-packages (from schema->sagemaker) (21.6.0)\n",
      "\u001b[33mDEPRECATION: celery 4.4.0 has a non-standard dependency specifier pytz>dev. pip 24.1 will enforce this behaviour change. A possible replacement is to upgrade to a newer version of celery or contact the author to suggest that they release a version with a conforming dependency specifiers. Discussion can be found at https://github.com/pypa/pip/issues/12063\u001b[0m\u001b[33m\n",
      "\u001b[0m"
     ]
    }
   ],
   "source": [
    "# install SageMaker python SDK\n",
    "!pip install -U sagemaker"
   ]
  },
  {
   "cell_type": "code",
   "execution_count": 2,
   "metadata": {},
   "outputs": [],
   "source": [
    "%load_ext autoreload\n",
    "%autoreload 2\n",
    "%load_ext dotenv\n",
    "%dotenv"
   ]
  },
  {
   "cell_type": "code",
   "execution_count": 3,
   "metadata": {},
   "outputs": [
    {
     "name": "stdout",
     "output_type": "stream",
     "text": [
      "sagemaker.config INFO - Not applying SDK defaults from location: /Library/Application Support/sagemaker/config.yaml\n",
      "sagemaker.config INFO - Not applying SDK defaults from location: /Users/kiptoo/Library/Application Support/sagemaker/config.yaml\n",
      "arn:aws:iam::956763695025:role/service-role/AmazonSageMaker-ExecutionRole-20231107T213330\n",
      "hillaryabalone\n"
     ]
    }
   ],
   "source": [
    "import sys\n",
    "import os\n",
    "import boto3\n",
    "import sagemaker\n",
    "from sagemaker.workflow.pipeline_context import  PipelineSession \n",
    "\n",
    "sagemaker_session = sagemaker.session.Session()\n",
    "region = sagemaker_session.boto_region_name\n",
    "# role = sagemaker.get_execution_role()\n",
    "role = os.environ[\"ROLE\"]\n",
    "pipeline_session = PipelineSession()\n",
    "# default_bucket = sagemaker_session.default_bucket()\n",
    "default_bucket = os.environ[\"BUCKET\"]\n",
    "model_package_group_name = f\"AbaloneModelPackageGroupName\"\n",
    "\n",
    "print(role)\n",
    "print(default_bucket)\n"
   ]
  },
  {
   "cell_type": "code",
   "execution_count": 4,
   "metadata": {},
   "outputs": [],
   "source": [
    "!mkdir -p data"
   ]
  },
  {
   "cell_type": "code",
   "execution_count": 5,
   "metadata": {},
   "outputs": [
    {
     "name": "stdout",
     "output_type": "stream",
     "text": [
      "s3://hillaryabalone/abalone/abalone-dataset.csv\n"
     ]
    }
   ],
   "source": [
    "local_path = \"data/abalone-dataset.csv\"\n",
    "\n",
    "s3 = boto3.resource(\"s3\")\n",
    "s3.Bucket(f\"sagemaker-example-files-prod-{region}\").download_file(\"datasets/tabular/uci_abalone/abalone.csv\", local_path)\n",
    "\n",
    "base_uri = f\"s3://{default_bucket}/abalone\"\n",
    "input_data_uri = sagemaker.s3.S3Uploader.upload(local_path=local_path, desired_s3_uri=base_uri)\n",
    "print(input_data_uri)"
   ]
  },
  {
   "cell_type": "code",
   "execution_count": 6,
   "metadata": {},
   "outputs": [
    {
     "name": "stdout",
     "output_type": "stream",
     "text": [
      "s3://hillaryabalone/abalone/abalone-dataset-batch\n"
     ]
    }
   ],
   "source": [
    "# download a second dataset for batch transformation after model creation\n",
    "\n",
    "local_path = \"data/abalone-dataset-batch\"\n",
    "\n",
    "s3 = boto3.resource(\"s3\")\n",
    "s3.Bucket(f\"sagemaker-servicecatalog-seedcode-{region}\").download_file(\"dataset/abalone-dataset-batch\", local_path)\n",
    "\n",
    "base_uri = f\"s3://{default_bucket}/abalone\"\n",
    "batch_data_uri = sagemaker.s3.S3Uploader.upload(local_path=local_path, desired_s3_uri=base_uri)\n",
    "print(batch_data_uri)"
   ]
  },
  {
   "cell_type": "code",
   "execution_count": null,
   "metadata": {},
   "outputs": [],
   "source": [
    "# Define Parameters to Parametrize Pipeline Execution\n",
    "# ParameterString\n",
    "# ParameterInteger\n",
    "# ParameterFloat\n",
    "# processing_instance_count - The instance count of the processing job.\n",
    "# instance_type - The ml.* instance type of the training job.\n",
    "# model_approval_status - The approval status to register with the trained model for CI/CD purposes (“PendingManualApproval” is the default).\n",
    "# input_data - The S3 bucket URI location of the input data.\n",
    "# batch_data - The S3 bucket URI location of the batch data.\n",
    "# mse_threshold - The Mean Squared Error (MSE) threshold used to verify the accuracy of a model.\n",
    "\n",
    "from sagemaker.workflow.parameters import (ParameterString, ParameterInteger, ParameterFloat)\n",
    "\n",
    "processing_instance_count = ParameterInteger(name=\"ProcessingInstanceCount\", default_value=1)\n",
    "instance_type = ParameterString(name=\"TrainingInstanceType\", default_value=\"ml.m5.xlarge\")\n",
    "model_approval_status = ParameterString(name=\"ModelApprovalStatus\", default_value=\"PendingManualApproval\")\n",
    "input_data = ParameterString(name=\"InputData\", default_value=input_data_uri)\n",
    "batch_data = ParameterString(name=\"BatchData\", default_value=batch_data_uri)\n",
    "mse_threshold = ParameterString(name=\"MseThreshold\", default_value=6.0)\n"
   ]
  }
 ],
 "metadata": {
  "kernelspec": {
   "display_name": "mlmicroservice",
   "language": "python",
   "name": "python3"
  },
  "language_info": {
   "codemirror_mode": {
    "name": "ipython",
    "version": 3
   },
   "file_extension": ".py",
   "mimetype": "text/x-python",
   "name": "python",
   "nbconvert_exporter": "python",
   "pygments_lexer": "ipython3",
   "version": "3.11.5"
  }
 },
 "nbformat": 4,
 "nbformat_minor": 2
}
